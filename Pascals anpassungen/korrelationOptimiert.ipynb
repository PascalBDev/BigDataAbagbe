{
 "cells": [
  {
   "cell_type": "markdown",
   "id": "4da4b367",
   "metadata": {},
   "source": [
    "#### Analysieren von Amazon Review Daten.\n",
    "In diesem Skript ein Datensatz bestehend aus Review Daten des Versandhändlers Amazon analysiert. "
   ]
  },
  {
   "cell_type": "code",
   "execution_count": 1,
   "id": "f3d413f6",
   "metadata": {},
   "outputs": [],
   "source": [
    "import findspark\n",
    "findspark.init()\n",
    "from pyspark.sql import SparkSession\n",
    "import pyspark\n",
    "import time\n",
    "import math\n",
    "from pyspark.sql.functions import col"
   ]
  },
  {
   "cell_type": "markdown",
   "id": "8331207e",
   "metadata": {},
   "source": [
    "bei .master (\"local[*]\") einsetzen, oder ein master + slaves starten (steigert Performance um das 4-fache)"
   ]
  },
  {
   "cell_type": "code",
   "execution_count": 2,
   "outputs": [
    {
     "name": "stdout",
     "output_type": "stream",
     "text": [
      "23/01/12 18:06:01 WARN Utils: Your hostname, Pascals-MacBook-Pro-3.local resolves to a loopback address: 127.0.0.1; using 193.197.227.148 instead (on interface en0)\n",
      "23/01/12 18:06:01 WARN Utils: Set SPARK_LOCAL_IP if you need to bind to another address\n"
     ]
    },
    {
     "name": "stderr",
     "output_type": "stream",
     "text": [
      "Setting default log level to \"WARN\".\n",
      "To adjust logging level use sc.setLogLevel(newLevel). For SparkR, use setLogLevel(newLevel).\n"
     ]
    },
    {
     "name": "stdout",
     "output_type": "stream",
     "text": [
      "23/01/12 18:06:02 WARN NativeCodeLoader: Unable to load native-hadoop library for your platform... using builtin-java classes where applicable\n"
     ]
    }
   ],
   "source": [
    "# Session anpassen\n",
    "spark = SparkSession \\\n",
    "    .builder \\\n",
    "    .master(\"local[*]\") \\\n",
    "    .appName(\"Amazon Reviews\") \\\n",
    "    .getOrCreate()\n",
    "# .master(\"spark://192.168.1.247:7077\") \\"
   ],
   "metadata": {
    "collapsed": false
   }
  },
  {
   "cell_type": "code",
   "execution_count": 3,
   "id": "f46dc0a5",
   "metadata": {},
   "outputs": [
    {
     "name": "stderr",
     "output_type": "stream",
     "text": [
      "                                                                                \r"
     ]
    }
   ],
   "source": [
    "# Lade JSON Datei\n",
    "df = spark.read.json(r'/Users/pascal/Desktop/Big Data/All_Beauty.json')\n",
    "\n",
    "# Entferne Spalten\n",
    "df = df.drop('verified', 'reviewTime',\"reviewerID\", \"asin\",\"reviewerName\",\"summary\",\"unixReviewTime\",\"vote\", \"style\", \"image\")\n",
    "\n",
    "# replacing any null values in the 'reviewText' column with an empty space\n",
    "df = df.fillna(\" \", subset=[\"reviewText\"])\n",
    "\n",
    "df = df.withColumn(\"Textlänge_integer\", pyspark.sql.functions.length('reviewText'))\n",
    "\n",
    "# casting the \"Textlänge_integer\" column to a double data type and renaming it to \"Textlänge\"\n",
    "df = df.withColumn(\"Textlänge\", col(\"Textlänge_integer\").cast(\"double\"))\n",
    "\n",
    "df = df.drop(\"reviewText\", \"Textlänge_integer\")\n",
    "\n",
    "# replacing any null values in the \"Textlänge\" column with 0\n",
    "df.fillna(0, subset=[\"Textlänge\"])\n",
    "\n",
    "# Dataframe in RDD konvertieren.\n",
    "partitionen = 10\n",
    "data = df.rdd.repartition(partitionen)"
   ]
  },
  {
   "cell_type": "markdown",
   "id": "e92d5f82",
   "metadata": {},
   "source": [
    "Korrelation eigenständig berechnen"
   ]
  },
  {
   "cell_type": "code",
   "execution_count": 4,
   "id": "d329ab6d",
   "metadata": {},
   "outputs": [
    {
     "name": "stderr",
     "output_type": "stream",
     "text": [
      "                                                                                \r"
     ]
    },
    {
     "name": "stdout",
     "output_type": "stream",
     "text": [
      "<class 'float'>\n",
      "Korrelation:  -0.020101181997881704\n",
      "Execution time in seconds: 2.837958812713623\n"
     ]
    }
   ],
   "source": [
    "# berechnet den Mittelwert einer bestimmten Spalte\n",
    "def calculate_mean(data, column):\n",
    "    return data.map(lambda x: x[column]).sum() / n\n",
    "\n",
    "# berechnet die Standardabweichung einer bestimmten Spalte\n",
    "def calculate_std(data, column, mean):\n",
    "    return math.sqrt(data.map(lambda x: (x[column] - mean)**2).sum() / n)\n",
    "\n",
    "# berechnet die Kovarianz zweier Spalten in den Daten\n",
    "def calculate_cov(data, column1, column2, mean1, mean2):\n",
    "    return data.map(lambda x: (x[column1] - mean1) * (x[column2] - mean2)).sum() / n\n",
    "\n",
    "start_time = time.time()\n",
    "n = data.count()\n",
    "mean_col1 = calculate_mean(data, 0)\n",
    "mean_col2 = calculate_mean(data, 1)\n",
    "std_col1 = calculate_std(data, 0, mean_col1)\n",
    "std_col2 = calculate_std(data, 1, mean_col2)\n",
    "covXY = calculate_cov(data, 0, 1, mean_col1, mean_col2)\n",
    "correlationOwnCalculation = covXY / (std_col1 * std_col2)\n",
    "executionTimeOwnCalculation = time.time() - start_time\n",
    "\n",
    "print(\"Korrelation: \", correlationOwnCalculation)\n",
    "print(f\"Execution time in seconds: {time.time() - start_time}\")"
   ]
  },
  {
   "cell_type": "markdown",
   "id": "ed7fccba",
   "metadata": {},
   "source": [
    "# Pyspark.SQL Korrelation"
   ]
  },
  {
   "cell_type": "code",
   "execution_count": 5,
   "id": "c1351665",
   "metadata": {},
   "outputs": [
    {
     "name": "stdout",
     "output_type": "stream",
     "text": [
      "Korrelation:  -0.020101181997884847\n",
      "Execution time in seconds: 0.5301339626312256\n"
     ]
    }
   ],
   "source": [
    "#Korrelation berechnen\n",
    "start_time = time.time()\n",
    "correlationPysparkSql = pyspark.sql.DataFrameStatFunctions(df).corr(\"overall\", \"Textlänge\")\n",
    "executionTimePysparkSql = time.time() - start_time\n",
    "print(\"Korrelation: \", correlationPysparkSql)\n",
    "print(f\"Execution time in seconds: {time.time() - start_time}\")"
   ]
  },
  {
   "cell_type": "markdown",
   "id": "566f1d5e",
   "metadata": {},
   "source": [
    "# Pandas Korrelation"
   ]
  },
  {
   "cell_type": "code",
   "execution_count": 6,
   "id": "f26ac180",
   "metadata": {},
   "outputs": [
    {
     "name": "stdout",
     "output_type": "stream",
     "text": [
      "Execution time in seconds: 1.3379290103912354\n"
     ]
    }
   ],
   "source": [
    "#DataFrame in ein Pandas_Dataframe umwandeln\n",
    "start_time = time.time()\n",
    "data = df.toPandas()\n",
    "print(f\"Execution time in seconds: {time.time() - start_time}\")"
   ]
  },
  {
   "cell_type": "code",
   "execution_count": 13,
   "id": "2f9c419a",
   "metadata": {},
   "outputs": [
    {
     "name": "stdout",
     "output_type": "stream",
     "text": [
      "-0.020101181997883685\n",
      "Execution time in seconds: 0.009268999099731445\n"
     ]
    }
   ],
   "source": [
    "#Korrelation mit Panda-DataFrame berechnen\n",
    "start_time = time.time()\n",
    "correlationPandas = data[\"overall\"].corr(data[\"Textlänge\"])\n",
    "executionTimePandas = time.time() - start_time\n",
    "print(f\"Execution time in seconds: {time.time() - start_time}\")"
   ]
  },
  {
   "cell_type": "markdown",
   "id": "8a5f4490",
   "metadata": {},
   "source": [
    "# Code um Duplikate zu bilden"
   ]
  },
  {
   "cell_type": "code",
   "execution_count": 8,
   "id": "e740216b",
   "metadata": {},
   "outputs": [],
   "source": [
    "# df = spark.read.json(r'C:\\Users\\klass\\data\\all_beauty.json')\n",
    "#\n",
    "# # Inhalt duplizieren\n",
    "# df = df.union(df)\n",
    "# df = df.coalesce(1)\n",
    "#\n",
    "# # Inhalt in eine Datei schreiben\n",
    "# df.write.json(\"duplicated_large_file.json\", mode=\"overwrite\")"
   ]
  }
 ],
 "metadata": {
  "kernelspec": {
   "display_name": "Python 3 (ipykernel)",
   "language": "python",
   "name": "python3"
  },
  "language_info": {
   "codemirror_mode": {
    "name": "ipython",
    "version": 3
   },
   "file_extension": ".py",
   "mimetype": "text/x-python",
   "name": "python",
   "nbconvert_exporter": "python",
   "pygments_lexer": "ipython3",
   "version": "3.9.12"
  }
 },
 "nbformat": 4,
 "nbformat_minor": 5
}
